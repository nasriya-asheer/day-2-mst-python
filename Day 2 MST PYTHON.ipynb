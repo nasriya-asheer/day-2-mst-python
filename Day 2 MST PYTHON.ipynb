{
 "cells": [
  {
   "cell_type": "code",
   "execution_count": 6,
   "id": "404f6b87",
   "metadata": {},
   "outputs": [
    {
     "name": "stdout",
     "output_type": "stream",
     "text": [
      "the sum of list: 19\n"
     ]
    }
   ],
   "source": [
    "#QS NO:1\n",
    "numbers = [1,3,4,5,6]\n",
    "Result= sum(numbers)\n",
    "print(\"The sum of list:\", Result)"
   ]
  },
  {
   "cell_type": "code",
   "execution_count": 12,
   "id": "7c09b591",
   "metadata": {},
   "outputs": [
    {
     "name": "stdout",
     "output_type": "stream",
     "text": [
      "Enter the string: aireen\n",
      "The length of string is:  6\n",
      "The half of string is:  air\n"
     ]
    }
   ],
   "source": [
    "#QS NO:2\n",
    "string= input(\"Enter the string: \")\n",
    "print(\"The length of string is: \",len(string))\n",
    "split_index= len(string)//2\n",
    "print(\"The half of string is: \",string[:split_index])"
   ]
  },
  {
   "cell_type": "code",
   "execution_count": 15,
   "id": "dbebebf9",
   "metadata": {},
   "outputs": [
    {
     "name": "stdout",
     "output_type": "stream",
     "text": [
      "(78, 45, 100, 19, 82, 77, 40, 39)\n"
     ]
    }
   ],
   "source": [
    "#QS NO:3\n",
    "tup =(78,45,32,19,82,77,40,39)\n",
    "a_list = list(tup)\n",
    "a_list[2]=100\n",
    "tup1 = tuple(a_list)\n",
    "print(tup1)"
   ]
  },
  {
   "cell_type": "code",
   "execution_count": 11,
   "id": "bd6c840c",
   "metadata": {},
   "outputs": [
    {
     "name": "stdout",
     "output_type": "stream",
     "text": [
      "list after deletion: [19, 10, 55, 31, 32, 94, 29, 10, 65, 77, 40, 40]\n"
     ]
    }
   ],
   "source": [
    "#QS NO:4\n",
    "listA=[19,32,10,55,31,32,94,29,10,65,77,40,40]\n",
    "listA.remove(32)\n",
    "print(\"list after deletion:\",listA)\n"
   ]
  },
  {
   "cell_type": "code",
   "execution_count": 12,
   "id": "09915e86",
   "metadata": {},
   "outputs": [
    {
     "name": "stdout",
     "output_type": "stream",
     "text": [
      "[19, 10, 55, 31, 32, 94, 29, 10, 65, 77]\n"
     ]
    }
   ],
   "source": [
    "#QS NO:4b\n",
    "value=40\n",
    "listA=[item for item in listA if item !=value]\n",
    "print(listA)\n"
   ]
  },
  {
   "cell_type": "code",
   "execution_count": 13,
   "id": "29b4ab3d",
   "metadata": {},
   "outputs": [
    {
     "name": "stdout",
     "output_type": "stream",
     "text": [
      "list after deletion: [19, 10, 55, 31, 32, 29, 10, 65, 77]\n"
     ]
    }
   ],
   "source": [
    "# QS NO:4c\n",
    "\n",
    "del listA[5]\n",
    "print(\"list after deletion:\",listA)"
   ]
  },
  {
   "cell_type": "code",
   "execution_count": 16,
   "id": "9a0245c8",
   "metadata": {},
   "outputs": [
    {
     "name": "stdout",
     "output_type": "stream",
     "text": [
      "list after modification: [19, 10, 55, 31, 32, 29, 10, 65, 300]\n"
     ]
    }
   ],
   "source": [
    "# qs no:4d\n",
    "\n",
    "listA[8]=300\n",
    "print(\"list after modification:\",listA)"
   ]
  },
  {
   "cell_type": "code",
   "execution_count": 17,
   "id": "c5aa3f1c",
   "metadata": {},
   "outputs": [
    {
     "name": "stdout",
     "output_type": "stream",
     "text": [
      "list after deletion: [19, 10, 200, 55, 31, 32, 29, 10, 65, 300]\n"
     ]
    }
   ],
   "source": [
    "#QS NO:4e\n",
    "\n",
    "index=2\n",
    "value=200\n",
    "listA.insert(index,value)\n",
    "print(\"list after deletion:\",listA)"
   ]
  },
  {
   "cell_type": "code",
   "execution_count": 18,
   "id": "aaf4a3b7",
   "metadata": {},
   "outputs": [
    {
     "name": "stdout",
     "output_type": "stream",
     "text": [
      "[19, 10, 200, 55, 31, 32, 29, 10, 65, 300]\n",
      "length: 10\n",
      "max value: 300\n",
      "sum: 751\n"
     ]
    }
   ],
   "source": [
    "#QS NO:4f\n",
    "print(listA)\n",
    "print(\"length:\",len(listA))\n",
    "print(\"max value:\",max(listA))\n",
    "print(\"sum:\",sum(listA))\n"
   ]
  },
  {
   "cell_type": "code",
   "execution_count": 37,
   "id": "8c5ba92f",
   "metadata": {},
   "outputs": [],
   "source": [
    "#QS NO:5a\n",
    "string=\"The day has been long\"\n",
    "\n"
   ]
  },
  {
   "cell_type": "code",
   "execution_count": 30,
   "id": "6c01d642",
   "metadata": {},
   "outputs": [
    {
     "name": "stdout",
     "output_type": "stream",
     "text": [
      "The day has been long The day has been long The day has been long The day has been long\n"
     ]
    }
   ],
   "source": [
    "result=' '.join([string]*4)\n",
    "print(result)"
   ]
  },
  {
   "cell_type": "code",
   "execution_count": 32,
   "id": "81423d98",
   "metadata": {},
   "outputs": [
    {
     "name": "stdout",
     "output_type": "stream",
     "text": [
      "The day has been long\n",
      "The day has been long\n",
      "The day has been long\n",
      "\n"
     ]
    }
   ],
   "source": [
    "s= \"The day has been long\\n\"\n",
    "print(s*3)"
   ]
  },
  {
   "cell_type": "code",
   "execution_count": 34,
   "id": "c1cbf944",
   "metadata": {},
   "outputs": [
    {
     "name": "stdout",
     "output_type": "stream",
     "text": [
      "The dayAhas been long\n"
     ]
    }
   ],
   "source": [
    "result=string[:7] + \"A\" + string[8:]\n",
    "print(result)"
   ]
  },
  {
   "cell_type": "code",
   "execution_count": 35,
   "id": "077be4b1",
   "metadata": {},
   "outputs": [
    {
     "data": {
      "text/plain": [
       "'day '"
      ]
     },
     "execution_count": 35,
     "metadata": {},
     "output_type": "execute_result"
    }
   ],
   "source": [
    "string[4:8]"
   ]
  },
  {
   "cell_type": "code",
   "execution_count": 36,
   "id": "d7b58780",
   "metadata": {},
   "outputs": [
    {
     "name": "stdout",
     "output_type": "stream",
     "text": [
      "The day has been long\n"
     ]
    },
    {
     "data": {
      "text/plain": [
       "21"
      ]
     },
     "execution_count": 36,
     "metadata": {},
     "output_type": "execute_result"
    }
   ],
   "source": [
    "print(string)\n",
    "len(string)"
   ]
  },
  {
   "cell_type": "code",
   "execution_count": null,
   "id": "c41a4f90",
   "metadata": {},
   "outputs": [],
   "source": []
  }
 ],
 "metadata": {
  "kernelspec": {
   "display_name": "Python 3 (ipykernel)",
   "language": "python",
   "name": "python3"
  },
  "language_info": {
   "codemirror_mode": {
    "name": "ipython",
    "version": 3
   },
   "file_extension": ".py",
   "mimetype": "text/x-python",
   "name": "python",
   "nbconvert_exporter": "python",
   "pygments_lexer": "ipython3",
   "version": "3.11.5"
  }
 },
 "nbformat": 4,
 "nbformat_minor": 5
}
